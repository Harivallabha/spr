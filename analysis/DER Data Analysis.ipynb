{
 "cells": [
  {
   "cell_type": "code",
   "execution_count": 385,
   "metadata": {},
   "outputs": [],
   "source": [
    "import pandas\n",
    "import numpy as np\n",
    "import seaborn as sns\n",
    "import matplotlib.pyplot as plt\n",
    "\n",
    "from scipy import stats\n",
    "def r2(x, y):\n",
    "    return stats.pearsonr(x, y)[0] ** 2"
   ]
  },
  {
   "cell_type": "code",
   "execution_count": 386,
   "metadata": {},
   "outputs": [],
   "source": [
    "df = pandas.read_csv(\"wandb_100k_inc_curl.csv\")\n",
    "nan = df[\"n_step\"][1980]"
   ]
  },
  {
   "cell_type": "code",
   "execution_count": 396,
   "metadata": {},
   "outputs": [],
   "source": [
    "controls = df[df[\"n_step\"] == 10]\n",
    "controls = controls[controls[\"nce\"] == 0]\n",
    "controls = controls[controls[\"encoder\"] == \"nature\"]\n",
    "controls = controls[controls[\"User\"] == \"ankeshanand\"]\n",
    "controls = controls[controls[\"batch_size\"] == 32]\n",
    "\n",
    "our_der = df[df[\"n_step\"] == 20]\n",
    "our_der = our_der[our_der[\"nce\"] == 0]\n",
    "our_der = our_der[our_der[\"encoder\"] == \"curl\"]\n",
    "our_der = our_der[our_der[\"User\"] == \"ankeshanand\"]\n",
    "our_der = our_der[our_der[\"replay_ratio\"] == 32]"
   ]
  },
  {
   "cell_type": "code",
   "execution_count": 397,
   "metadata": {},
   "outputs": [
    {
     "data": {
      "text/plain": [
       "0"
      ]
     },
     "execution_count": 397,
     "metadata": {},
     "output_type": "execute_result"
    }
   ],
   "source": [
    "our_der = df[df[\"n_step\"] == 20]\n",
    "len(df[df[\"n_step\"] == nan])"
   ]
  },
  {
   "cell_type": "code",
   "execution_count": 398,
   "metadata": {},
   "outputs": [],
   "source": [
    "atari_der_scores = dict(\n",
    "    alien=739.9, amidar=188.6, assault=431.2, asterix=470.8,\n",
    "    bank_heist=51.0, battle_zone=10124.6, boxing=0.2,\n",
    "    breakout=1.9, chopper_command=861.8, crazy_climber=16185.3,\n",
    "    demon_attack=508, freeway=27.9, frostbite=866.8,\n",
    "    gopher=349.5, hero=6857.0, jamesbond=301.6,\n",
    "    kangaroo=779.3, krull=2851.5, kung_fu_master=14346.1,\n",
    "    ms_pacman=1204.1, pong=-19.3, private_eye=97.8, qbert=1152.9,\n",
    "    road_runner=9600.0, seaquest=354.1, up_n_down=2877.4,\n",
    ")\n",
    "\n",
    "atari_random_scores = dict(\n",
    "    alien=227.8, amidar=5.8, assault=222.4, asterix=210.0, bank_heist=14.2, battle_zone=2360.0, boxing=0.1,\n",
    "    breakout=1.7, chopper_command=811.0, crazy_climber=10780.5, demon_attack=152.1, freeway=0.0, frostbite=65.2,\n",
    "    gopher=257.6, hero=1027.0, jamesbond=29.0, kangaroo=52.0, krull=1598.0, kung_fu_master=1598.0, ms_pacman=307.3, pong=-20.7,\n",
    "    private_eye=24.9, qbert=163.9, road_runner=11.5, seaquest=68.4, up_n_down=533.4\n",
    ")\n",
    "\n",
    "atari_human_scores = dict(\n",
    "    alien=7127.7, amidar=1719.5, assault=742.0, asterix=8503.3, bank_heist=753.1, battle_zone=37187.5, boxing=12.1,\n",
    "    breakout=30.5, chopper_command=7387.8, crazy_climber=35829.4, demon_attack=1971.0, freeway=29.6, frostbite=4334.7,\n",
    "    gopher=2412.5, hero=30826.4, jamesbond=302.8, kangaroo=3035.0, krull=2665.5, kung_fu_master=22736.3, ms_pacman=6951.6, pong=14.6,\n",
    "    private_eye=69571.3, qbert=13455.0, road_runner=7845.0, seaquest=42054.7, up_n_down=11693.2\n",
    ")"
   ]
  },
  {
   "cell_type": "code",
   "execution_count": 399,
   "metadata": {},
   "outputs": [],
   "source": [
    "atari_der_scores = pandas.DataFrame(np.array(list(atari_der_scores.values())).reshape(-1, 1), \n",
    "                                    index=list(atari_der_scores.keys()),\n",
    "                                    columns=[\"GameScoreAverage\"])\n",
    "\n",
    "atari_human_scores = pandas.DataFrame(np.array(list(atari_human_scores.values())).reshape(-1, 1), \n",
    "                                    index=list(atari_human_scores.keys()),\n",
    "                                    columns=[\"GameScoreAverage\"])\n",
    "\n",
    "atari_random_scores = pandas.DataFrame(np.array(list(atari_random_scores.values())).reshape(-1, 1), \n",
    "                                    index=list(atari_random_scores.keys()),\n",
    "                                    columns=[\"GameScoreAverage\"])"
   ]
  },
  {
   "cell_type": "code",
   "execution_count": 400,
   "metadata": {},
   "outputs": [],
   "source": [
    "atari_der_scores[\"GameScoreNormalized\"] = (atari_der_scores[\"GameScoreAverage\"] - atari_random_scores[\"GameScoreAverage\"])/(atari_human_scores[\"GameScoreAverage\"] - atari_random_scores[\"GameScoreAverage\"])"
   ]
  },
  {
   "cell_type": "code",
   "execution_count": 401,
   "metadata": {},
   "outputs": [],
   "source": [
    "control_games = controls.groupby(\"game\").mean()\n",
    "our_der_games = our_der.groupby(\"game\").mean()"
   ]
  },
  {
   "cell_type": "code",
   "execution_count": 402,
   "metadata": {},
   "outputs": [
    {
     "name": "stdout",
     "output_type": "stream",
     "text": [
      "0.1558878582313089 0.29359438671415644\n",
      "0.12611582669239213 0.2288213374925621\n"
     ]
    }
   ],
   "source": [
    "print(our_der.GameScoreNormalized.median(), our_der.GameScoreNormalized.mean())\n",
    "print(controls.GameScoreNormalized.median(), controls.GameScoreNormalized.mean())"
   ]
  },
  {
   "cell_type": "code",
   "execution_count": 403,
   "metadata": {},
   "outputs": [
    {
     "name": "stdout",
     "output_type": "stream",
     "text": [
      "0.15559953644477223 0.29359438671415644\n",
      "0.1931436070228043 0.2274536840309572\n",
      "0.16136157795467734 0.284527025595782\n"
     ]
    }
   ],
   "source": [
    "print(our_der_games[\"GameScoreNormalized\"].median(), our_der_games[\"GameScoreNormalized\"].mean())\n",
    "print(control_games[\"GameScoreNormalized\"].median(), control_games[\"GameScoreNormalized\"].mean())\n",
    "print(atari_der_scores[\"GameScoreNormalized\"].median(), atari_der_scores[\"GameScoreNormalized\"].mean())"
   ]
  },
  {
   "cell_type": "code",
   "execution_count": 357,
   "metadata": {},
   "outputs": [],
   "source": [
    "control_games[\"GameScoreNormalized\"] = (control_games[\"GameScoreAverage\"] - atari_random_scores[\"GameScoreAverage\"])/(atari_human_scores[\"GameScoreAverage\"] - atari_random_scores[\"GameScoreAverage\"])"
   ]
  },
  {
   "cell_type": "code",
   "execution_count": 404,
   "metadata": {},
   "outputs": [
    {
     "ename": "ValueError",
     "evalue": "Can only compare identically-labeled Series objects",
     "output_type": "error",
     "traceback": [
      "\u001b[1;31m---------------------------------------------------------------------------\u001b[0m",
      "\u001b[1;31mValueError\u001b[0m                                Traceback (most recent call last)",
      "\u001b[1;32m<ipython-input-404-d7a6c476503d>\u001b[0m in \u001b[0;36m<module>\u001b[1;34m()\u001b[0m\n\u001b[1;32m----> 1\u001b[1;33m \u001b[0mprint\u001b[0m\u001b[1;33m(\u001b[0m\u001b[0mnp\u001b[0m\u001b[1;33m.\u001b[0m\u001b[0msum\u001b[0m\u001b[1;33m(\u001b[0m\u001b[1;33m(\u001b[0m\u001b[0mour_der_games\u001b[0m\u001b[1;33m[\u001b[0m\u001b[1;34m\"GameScoreAverage\"\u001b[0m\u001b[1;33m]\u001b[0m \u001b[1;33m>\u001b[0m \u001b[0matari_der_scores\u001b[0m\u001b[1;33m[\u001b[0m\u001b[1;34m\"GameScoreAverage\"\u001b[0m\u001b[1;33m]\u001b[0m\u001b[1;33m)\u001b[0m\u001b[1;33m)\u001b[0m\u001b[1;33m)\u001b[0m\u001b[1;33m\u001b[0m\u001b[0m\n\u001b[0m\u001b[0;32m      2\u001b[0m \u001b[0mprint\u001b[0m\u001b[1;33m(\u001b[0m\u001b[0mnp\u001b[0m\u001b[1;33m.\u001b[0m\u001b[0msum\u001b[0m\u001b[1;33m(\u001b[0m\u001b[1;33m(\u001b[0m\u001b[0mcontrol_games\u001b[0m\u001b[1;33m[\u001b[0m\u001b[1;34m\"GameScoreAverage\"\u001b[0m\u001b[1;33m]\u001b[0m \u001b[1;33m>\u001b[0m \u001b[0mour_der_games\u001b[0m\u001b[1;33m[\u001b[0m\u001b[1;34m\"GameScoreAverage\"\u001b[0m\u001b[1;33m]\u001b[0m\u001b[1;33m)\u001b[0m\u001b[1;33m)\u001b[0m\u001b[1;33m)\u001b[0m\u001b[1;33m\u001b[0m\u001b[0m\n\u001b[0;32m      3\u001b[0m \u001b[0mprint\u001b[0m\u001b[1;33m(\u001b[0m\u001b[0mnp\u001b[0m\u001b[1;33m.\u001b[0m\u001b[0msum\u001b[0m\u001b[1;33m(\u001b[0m\u001b[1;33m(\u001b[0m\u001b[0mcontrol_games\u001b[0m\u001b[1;33m[\u001b[0m\u001b[1;34m\"GameScoreAverage\"\u001b[0m\u001b[1;33m]\u001b[0m \u001b[1;33m>\u001b[0m \u001b[0matari_der_scores\u001b[0m\u001b[1;33m[\u001b[0m\u001b[1;34m\"GameScoreAverage\"\u001b[0m\u001b[1;33m]\u001b[0m\u001b[1;33m)\u001b[0m\u001b[1;33m)\u001b[0m\u001b[1;33m)\u001b[0m\u001b[1;33m\u001b[0m\u001b[0m\n",
      "\u001b[1;32m~\\AppData\\Local\\conda\\conda\\envs\\pytorch\\lib\\site-packages\\pandas\\core\\ops.py\u001b[0m in \u001b[0;36mwrapper\u001b[1;34m(self, other, axis)\u001b[0m\n\u001b[0;32m   1188\u001b[0m \u001b[1;33m\u001b[0m\u001b[0m\n\u001b[0;32m   1189\u001b[0m         \u001b[1;32melif\u001b[0m \u001b[0misinstance\u001b[0m\u001b[1;33m(\u001b[0m\u001b[0mother\u001b[0m\u001b[1;33m,\u001b[0m \u001b[0mABCSeries\u001b[0m\u001b[1;33m)\u001b[0m \u001b[1;32mand\u001b[0m \u001b[1;32mnot\u001b[0m \u001b[0mself\u001b[0m\u001b[1;33m.\u001b[0m\u001b[0m_indexed_same\u001b[0m\u001b[1;33m(\u001b[0m\u001b[0mother\u001b[0m\u001b[1;33m)\u001b[0m\u001b[1;33m:\u001b[0m\u001b[1;33m\u001b[0m\u001b[0m\n\u001b[1;32m-> 1190\u001b[1;33m             raise ValueError(\"Can only compare identically-labeled \"\n\u001b[0m\u001b[0;32m   1191\u001b[0m                              \"Series objects\")\n\u001b[0;32m   1192\u001b[0m \u001b[1;33m\u001b[0m\u001b[0m\n",
      "\u001b[1;31mValueError\u001b[0m: Can only compare identically-labeled Series objects"
     ]
    }
   ],
   "source": [
    "print(np.sum((our_der_games[\"GameScoreAverage\"] > atari_der_scores[\"GameScoreAverage\"])))\n",
    "print(np.sum((control_games[\"GameScoreAverage\"] > our_der_games[\"GameScoreAverage\"])))\n",
    "print(np.sum((control_games[\"GameScoreAverage\"] > atari_der_scores[\"GameScoreAverage\"])))"
   ]
  },
  {
   "cell_type": "code",
   "execution_count": 304,
   "metadata": {},
   "outputs": [],
   "source": [
    "rr_128 = df[df[\"n_step\"] == 5]\n",
    "rr_128 = rr_128[rr_128[\"replay_ratio\"] == 128]\n",
    "rr_128_games = rr_128.groupby(\"game\").mean()"
   ]
  },
  {
   "cell_type": "code",
   "execution_count": 305,
   "metadata": {},
   "outputs": [],
   "source": [
    "atari_der_comp = atari_der_scores[[x in rr_128_games.index for x in atari_der_scores.index]]"
   ]
  },
  {
   "cell_type": "code",
   "execution_count": 306,
   "metadata": {},
   "outputs": [],
   "source": [
    "control_games = controls.groupby(\"game\").mean()\n",
    "control_games = control_games[[x in rr_128_games.index for x in control_games.index]]"
   ]
  },
  {
   "cell_type": "code",
   "execution_count": 307,
   "metadata": {},
   "outputs": [
    {
     "name": "stdout",
     "output_type": "stream",
     "text": [
      "game\n",
      "alien                NaN\n",
      "amidar          0.623228\n",
      "assault         0.549061\n",
      "asterix         2.059049\n",
      "boxing         32.880000\n",
      "freeway         0.234194\n",
      "frostbite       0.223278\n",
      "hero            1.072305\n",
      "jamesbond       0.458180\n",
      "kangaroo        2.177918\n",
      "krull                NaN\n",
      "ms_pacman            NaN\n",
      "pong           13.107143\n",
      "private_eye     0.679835\n",
      "seaquest        0.941687\n",
      "Name: GameScoreDERNormalized, dtype: float64\n"
     ]
    }
   ],
   "source": [
    "print(rr_128_games[\"GameScoreDERNormalized\"])"
   ]
  },
  {
   "cell_type": "code",
   "execution_count": 308,
   "metadata": {},
   "outputs": [
    {
     "name": "stdout",
     "output_type": "stream",
     "text": [
      "game\n",
      "alien           723.4600\n",
      "amidar          152.9240\n",
      "assault         433.1340\n",
      "asterix         601.9000\n",
      "boxing            2.5325\n",
      "freeway          29.8760\n",
      "frostbite       337.2000\n",
      "hero           5510.6300\n",
      "jamesbond       234.8000\n",
      "kangaroo       1242.6000\n",
      "krull          3143.1180\n",
      "ms_pacman       929.5800\n",
      "pong             -7.4050\n",
      "private_eye     -12.0000\n",
      "seaquest        355.6000\n",
      "Name: GameScoreAverage, dtype: float64\n",
      "game\n",
      "alien           737.860\n",
      "amidar          119.726\n",
      "assault         337.044\n",
      "asterix         747.000\n",
      "boxing            3.388\n",
      "freeway           6.534\n",
      "frostbite       244.180\n",
      "hero           7278.540\n",
      "jamesbond       153.900\n",
      "kangaroo       1636.000\n",
      "krull          3337.366\n",
      "ms_pacman      1297.080\n",
      "pong             -2.350\n",
      "private_eye      74.460\n",
      "seaquest        337.440\n",
      "Name: GameScoreAverage, dtype: float64\n"
     ]
    }
   ],
   "source": [
    "print(control_games[\"GameScoreAverage\"])\n",
    "print(rr_128_games[\"GameScoreAverage\"])"
   ]
  },
  {
   "cell_type": "code",
   "execution_count": 359,
   "metadata": {},
   "outputs": [
    {
     "name": "stdout",
     "output_type": "stream",
     "text": [
      "0.20978744538480637 0.29764833378817035\n",
      "0.17658437264396823 0.33195645322770156\n"
     ]
    }
   ],
   "source": [
    "print(rr_128_games[\"GameScoreNormalized\"].median(), rr_128_games[\"GameScoreNormalized\"].mean())\n",
    "print(control_games[\"GameScoreNormalized\"].median(), control_games[\"GameScoreNormalized\"].mean())"
   ]
  },
  {
   "cell_type": "code",
   "execution_count": 310,
   "metadata": {},
   "outputs": [
    {
     "name": "stdout",
     "output_type": "stream",
     "text": [
      "0.6\n",
      "0.4666666666666667\n",
      "0.5333333333333333\n"
     ]
    }
   ],
   "source": [
    "print(np.mean((rr_128_games[\"GameScoreNormalized\"] > control_games[\"GameScoreNormalized\"])))\n",
    "print(np.mean((rr_128_games[\"GameScoreAverage\"] > atari_der_comp[\"GameScoreAverage\"])))\n",
    "print(np.mean((control_games[\"GameScoreAverage\"] > atari_der_comp[\"GameScoreAverage\"])))"
   ]
  },
  {
   "cell_type": "code",
   "execution_count": 258,
   "metadata": {},
   "outputs": [],
   "source": [
    "all_games = df.groupby(\"game\").mean()"
   ]
  },
  {
   "cell_type": "code",
   "execution_count": 259,
   "metadata": {},
   "outputs": [],
   "source": [
    "nce_1 = df[df[\"nce\"] == 1]\n",
    "nce_1_games = nce_1.groupby(\"game\").median()\n",
    "\n",
    "nce_0 = df[df[\"nce\"] == 0]\n",
    "nce_0_games = nce_0.groupby(\"game\").median()"
   ]
  },
  {
   "cell_type": "code",
   "execution_count": 260,
   "metadata": {},
   "outputs": [],
   "source": [
    "rel_scores = 100*(nce_1_games[\"GameScoreNormalized\"] - nce_0_games[\"GameScoreNormalized\"])/nce_0_games[\"GameScoreNormalized\"]"
   ]
  },
  {
   "cell_type": "code",
   "execution_count": 261,
   "metadata": {},
   "outputs": [
    {
     "data": {
      "image/png": "[encoded data removed]",
      "text/plain": [
       "<Figure size 432x288 with 1 Axes>"
      ]
     },
     "metadata": {
      "needs_background": "light"
     },
     "output_type": "display_data"
    }
   ],
   "source": [
    "sns.distplot(rel_scores)\n",
    "plt.show()"
   ]
  },
  {
   "cell_type": "code",
   "execution_count": 145,
   "metadata": {},
   "outputs": [
    {
     "name": "stdout",
     "output_type": "stream",
     "text": [
      "20\n"
     ]
    }
   ],
   "source": [
    "print(np.sum((nce_1_games[\"GameScoreNormalized\"] > nce_0_games[\"GameScoreNormalized\"])))"
   ]
  },
  {
   "cell_type": "code",
   "execution_count": 147,
   "metadata": {},
   "outputs": [
    {
     "name": "stdout",
     "output_type": "stream",
     "text": [
      "0.19057775212476316 0.3091032012296476\n",
      "0.15778271406399158 0.21446154170387505\n"
     ]
    }
   ],
   "source": [
    "print(nce_1_games[\"GameScoreNormalized\"].median(), nce_1_games[\"GameScoreNormalized\"].mean())\n",
    "print(nce_0_games[\"GameScoreNormalized\"].median(), nce_0_games[\"GameScoreNormalized\"].mean())"
   ]
  },
  {
   "cell_type": "code",
   "execution_count": 139,
   "metadata": {},
   "outputs": [
    {
     "name": "stdout",
     "output_type": "stream",
     "text": [
      "Runtime 60276.55937700187\n",
      "Sweep nan\n",
      "agent.eps_eval 0.0010000000000000005\n",
      "agent.eps_final 0.0\n",
      "agent.eps_init 0.0\n",
      "algo.amortization_decay_constant nan\n",
      "algo.amortization_loss_weight nan\n",
      "algo.batch_size 64.0\n",
      "algo.clip_grad_norm 10.0\n",
      "algo.discount 0.99\n",
      "algo.double_dqn 1.0\n",
      "algo.eps_steps 50000.0\n",
      "algo.learning_rate 0.00010000000000000002\n",
      "algo.min_steps_learn 2000.0\n",
      "algo.model_nce_weight nan\n",
      "algo.model_rl_weight nan\n",
      "algo.n_step_return 10.0\n",
      "algo.nce_loss_weight nan\n",
      "algo.pri_alpha 0.5\n",
      "algo.pri_beta_steps 100000.0\n",
      "algo.prioritized_replay 1.0\n",
      "algo.replay_ratio 32.0\n",
      "algo.replay_size 1000000.0\n",
      "algo.reward_loss_weight nan\n",
      "algo.target_update_interval 2000.0\n",
      "algo.target_update_tau 1.0\n",
      "alternating nan\n",
      "amortization_decay_constant 0.0\n",
      "amortization_loss_weight 0.0\n",
      "async_sample 0.0\n",
      "aug_prob 1.0\n",
      "batch_b 1.0\n",
      "batch_size 64.0\n",
      "batch_t nan\n",
      "beluga 0.0\n",
      "buffered_nce 0.0\n",
      "c1 1.25\n",
      "control 0.0\n",
      "cosine_nce 0.0\n",
      "debug_cuda_idx 0.0\n",
      "detach_model 1.0\n",
      "dirichlet_alpha 0.25\n",
      "dueling 0.0\n",
      "dynamics_blocks 4.0\n",
      "env.episodic_lives 1.0\n",
      "env.grayscale 1.0\n",
      "env.imagesize 84.0\n",
      "env.num_img_obs nan\n",
      "env.stack_actions 0.0\n",
      "eval_augmentation 0.0\n",
      "eval_env.episodic_lives 0.0\n",
      "eval_env.grayscale 1.0\n",
      "eval_env.horizon 27000.0\n",
      "eval_env.imagesize 84.0\n",
      "eval_env.num_img_obs nan\n",
      "eval_env.stack_actions 0.0\n",
      "eval_imagesize 84.0\n",
      "eval_simulations 0.0\n",
      "fasteval 1.0\n",
      "film 0.0\n",
      "frame_dropout 0.0\n",
      "global_local_nce 0.5202019617148219\n",
      "global_nce 0.0\n",
      "gpu_per_run nan\n",
      "grayscale 1.0\n",
      "hyperthread_offset nan\n",
      "imagesize 84.0\n",
      "jumps 0.0\n",
      "keep_last_frame 1.0\n",
      "latent_size 256.0\n",
      "learn_model 1.0\n",
      "local_nce 0.0\n",
      "max_grad_norm 10.0\n",
      "model.dueling 0.0\n",
      "model.framestack nan\n",
      "model_nce_weight 1.0\n",
      "model_rl_weight 1.0\n",
      "momentum_encoder 0.0\n",
      "n_cpu_core nan\n",
      "n_gpu 1.0\n",
      "n_socket nan\n",
      "n_step 10.0\n",
      "n_steps 1000000.0\n",
      "nce 0.5202019617148219\n",
      "nce_loss_decay_steps 50000.0\n",
      "nce_loss_weight 1.0\n",
      "nce_loss_weight_final -1.0\n",
      "no_rl_augmentation 0.0\n",
      "no_search_control 0.0\n",
      "noisy_nets 1.0\n",
      "num_simulations 0.0\n",
      "optim.eps 0.00015\n",
      "q_dirichlet 0.0\n",
      "replay_ratio 32.0\n",
      "reward_loss_weight 1.0\n",
      "run_slot nan\n",
      "runner.log_interval_steps 1000000.0\n",
      "runner.n_steps 50000000.0\n",
      "sample_gpu_per_run nan\n",
      "sampler.batch_B 16.0\n",
      "sampler.batch_T 2.0\n",
      "sampler.eval_max_steps 2133728.2889902564\n",
      "sampler.eval_max_trajectories 100.0\n",
      "sampler.eval_n_envs 100.0\n",
      "sampler.max_decorrelation_steps 1000.0\n",
      "search_epsilon 0.01\n",
      "seed 233.82687958293462\n",
      "set_affinity nan\n",
      "shared_encoder 0.0\n",
      "stack_actions 0.0\n",
      "tag nan\n",
      "target_augmentation 0.0\n",
      "target_encoder_sn 0.0\n",
      "target_update_interval 2000.0\n",
      "target_update_tau 1.0\n",
      "time_contrastive 0.5202019617148219\n",
      "virtual_loss_c 1.0\n",
      "virtual_threads 3.0\n",
      "visit_temp 0.5\n",
      "AmortizationLoss 0.0\n",
      "CumCompletedTrajs nan\n",
      "CumEvalTime nan\n",
      "CumReplayRatio nan\n",
      "CumSteps nan\n",
      "CumTime (s) nan\n",
      "CumTrainTime nan\n",
      "CumUpdates nan\n",
      "DiscountedReturnAverage 4.918766604242449\n",
      "DiscountedReturnMax 5.748332264915111\n",
      "DiscountedReturnMedian 4.956582770679311\n",
      "DiscountedReturnMin 3.5257686467095377\n",
      "DiscountedReturnStd 0.46966306727938706\n",
      "GameScoreAverage 6976.902811408814\n",
      "GameScoreMax 11707.305798423648\n",
      "GameScoreMedian 6976.629201355357\n",
      "GameScoreMin 2785.491596046183\n",
      "GameScoreNormalized 0.8146934549918808\n",
      "GameScoreStd 2101.478012808345\n",
      "Iteration nan\n",
      "LengthAverage 1590.0601180227675\n",
      "LengthMax 3181.5345358170775\n",
      "LengthMedian 1484.3560811263933\n",
      "LengthMin 914.6726676848461\n",
      "LengthStd 499.50870273494013\n",
      "ModelNCELoss 0.0\n",
      "NCEAcc nan\n",
      "NCELoss nan\n",
      "NonzeroRewardsAverage nan\n",
      "NonzeroRewardsMax nan\n",
      "NonzeroRewardsMedian nan\n",
      "NonzeroRewardsMin nan\n",
      "NonzeroRewardsStd nan\n",
      "ReplayRatio nan\n",
      "ReturnAverage nan\n",
      "ReturnMax nan\n",
      "ReturnMedian nan\n",
      "ReturnMin nan\n",
      "ReturnStd nan\n",
      "RewardLoss nan\n",
      "StepsInEval nan\n",
      "StepsPerSecond nan\n",
      "TrajsInEval nan\n",
      "UpdatesPerSecond nan\n",
      "cum_steps 1000000.0\n",
      "gradNorm 0.8281250416982444\n",
      "gradNormAverage nan\n",
      "gradNormMax nan\n",
      "gradNormMedian nan\n",
      "gradNormMin nan\n",
      "gradNormStd nan\n",
      "loss 0.4232688013220614\n",
      "lossAverage nan\n",
      "lossMax nan\n",
      "lossMedian nan\n",
      "lossMin nan\n",
      "lossStd nan\n",
      "modelGradNorm 0.0\n",
      "modelLoss nan\n",
      "modelRLLoss 0.0\n",
      "tdAbsErr nan\n",
      "tdAbsErrAverage nan\n",
      "tdAbsErrMax nan\n",
      "tdAbsErrMedian nan\n",
      "tdAbsErrMin nan\n",
      "tdAbsErrStd nan\n"
     ]
    }
   ],
   "source": [
    "for  key in all_games.keys(): print(key, np.mean(all_games[key]))"
   ]
  },
  {
   "cell_type": "code",
   "execution_count": 121,
   "metadata": {},
   "outputs": [
    {
     "data": {
      "text/plain": [
       "game\n",
       "alien              0.121828\n",
       "amidar             0.131237\n",
       "assault            0.851270\n",
       "asterix            0.131522\n",
       "bank_heist         0.900325\n",
       "battle_zone        0.618190\n",
       "boxing             3.568333\n",
       "breakout           0.297633\n",
       "chopper_command    0.245331\n",
       "crazy_climber      2.477694\n",
       "demon_attack       0.025730\n",
       "freeway            1.081081\n",
       "frostbite          0.046610\n",
       "gopher             0.519467\n",
       "hero               0.180445\n",
       "jamesbond          1.752191\n",
       "kangaroo           0.584311\n",
       "krull              1.826131\n",
       "kung_fu_master     0.991518\n",
       "ms_pacman          0.233019\n",
       "pong               1.152691\n",
       "private_eye        0.001015\n",
       "qbert              0.040589\n",
       "road_runner        3.304717\n",
       "seaquest           0.024827\n",
       "up_n_down          3.512434\n",
       "Name: GameScoreNormalized, dtype: float64"
      ]
     },
     "execution_count": 121,
     "metadata": {},
     "output_type": "execute_result"
    }
   ],
   "source": [
    "nce_1_games[\"GameScoreNormalized\"]"
   ]
  },
  {
   "cell_type": "code",
   "execution_count": 375,
   "metadata": {},
   "outputs": [],
   "source": [
    "q_l1 = df[df[\"n_step\"] == 10]\n",
    "q_l1 = q_l1[q_l1[\"replay_ratio\"] == 64]\n",
    "q_l1 = q_l1[q_l1[\"classifier\"] == \"q_l1\"]\n",
    "q_l1 = q_l1[q_l1[\"jumps\"] == 0]\n",
    "q_l1 = q_l1[q_l1[\"time_contrastive\"] == 1]\n",
    "q_l1 = q_l1[q_l1[\"global_nce\"] == 0]\n",
    "q_l1_games = q_l1.groupby(\"game\").mean()\n",
    "control_games = controls.groupby(\"game\").mean()\n",
    "control_games = control_games[[x in q_l1_games.index and x in rr_128_games.index for x in control_games.index]]\n",
    "atari_der_comp = atari_der_scores[[x in q_l1_games.index and x in rr_128_games.index for x in atari_der_scores.index]]\n",
    "rr_128_games = rr_128_games[[x in q_l1_games.index and x in rr_128_games.index for x in rr_128_games.index]]\n",
    "q_l1_games = q_l1_games[[x in q_l1_games.index and x in rr_128_games.index for x in q_l1_games.index]]"
   ]
  },
  {
   "cell_type": "code",
   "execution_count": 376,
   "metadata": {},
   "outputs": [
    {
     "name": "stdout",
     "output_type": "stream",
     "text": [
      "0.07100392759315352 0.3462679458146717\n",
      "0.07392281047551415 0.30804495008204175\n",
      "0.08585166598587848 0.3558352544110107\n",
      "0.10666977884110403 0.299814397118739\n"
     ]
    }
   ],
   "source": [
    "print(q_l1_games[\"GameScoreNormalized\"].median(), q_l1_games[\"GameScoreNormalized\"].mean())\n",
    "print(rr_128_games[\"GameScoreNormalized\"].median(), rr_128_games[\"GameScoreNormalized\"].mean())\n",
    "print(control_games[\"GameScoreNormalized\"].median(), control_games[\"GameScoreNormalized\"].mean())\n",
    "print(atari_der_comp[\"GameScoreNormalized\"].median(), atari_der_comp[\"GameScoreNormalized\"].mean())"
   ]
  },
  {
   "cell_type": "code",
   "execution_count": 377,
   "metadata": {},
   "outputs": [
    {
     "data": {
      "text/html": [
       "<div>\n",
       "<style scoped>\n",
       "    .dataframe tbody tr th:only-of-type {\n",
       "        vertical-align: middle;\n",
       "    }\n",
       "\n",
       "    .dataframe tbody tr th {\n",
       "        vertical-align: top;\n",
       "    }\n",
       "\n",
       "    .dataframe thead th {\n",
       "        text-align: right;\n",
       "    }\n",
       "</style>\n",
       "<table border=\"1\" class=\"dataframe\">\n",
       "  <thead>\n",
       "    <tr style=\"text-align: right;\">\n",
       "      <th></th>\n",
       "      <th>Runtime</th>\n",
       "      <th>Sweep</th>\n",
       "      <th>agent.eps_eval</th>\n",
       "      <th>agent.eps_final</th>\n",
       "      <th>agent.eps_init</th>\n",
       "      <th>algo.amortization_decay_constant</th>\n",
       "      <th>algo.amortization_loss_weight</th>\n",
       "      <th>algo.batch_size</th>\n",
       "      <th>algo.clip_grad_norm</th>\n",
       "      <th>algo.discount</th>\n",
       "      <th>...</th>\n",
       "      <th>lossStd</th>\n",
       "      <th>modelGradNorm</th>\n",
       "      <th>modelLoss</th>\n",
       "      <th>modelRLLoss</th>\n",
       "      <th>tdAbsErr</th>\n",
       "      <th>tdAbsErrAverage</th>\n",
       "      <th>tdAbsErrMax</th>\n",
       "      <th>tdAbsErrMedian</th>\n",
       "      <th>tdAbsErrMin</th>\n",
       "      <th>tdAbsErrStd</th>\n",
       "    </tr>\n",
       "    <tr>\n",
       "      <th>game</th>\n",
       "      <th></th>\n",
       "      <th></th>\n",
       "      <th></th>\n",
       "      <th></th>\n",
       "      <th></th>\n",
       "      <th></th>\n",
       "      <th></th>\n",
       "      <th></th>\n",
       "      <th></th>\n",
       "      <th></th>\n",
       "      <th></th>\n",
       "      <th></th>\n",
       "      <th></th>\n",
       "      <th></th>\n",
       "      <th></th>\n",
       "      <th></th>\n",
       "      <th></th>\n",
       "      <th></th>\n",
       "      <th></th>\n",
       "      <th></th>\n",
       "      <th></th>\n",
       "    </tr>\n",
       "  </thead>\n",
       "  <tbody>\n",
       "    <tr>\n",
       "      <th>alien</th>\n",
       "      <td>2.2</td>\n",
       "      <td>NaN</td>\n",
       "      <td>0.001</td>\n",
       "      <td>0.0</td>\n",
       "      <td>0.0</td>\n",
       "      <td>NaN</td>\n",
       "      <td>NaN</td>\n",
       "      <td>32.0</td>\n",
       "      <td>10.0</td>\n",
       "      <td>0.99</td>\n",
       "      <td>...</td>\n",
       "      <td>NaN</td>\n",
       "      <td>0.0</td>\n",
       "      <td>NaN</td>\n",
       "      <td>0.0</td>\n",
       "      <td>NaN</td>\n",
       "      <td>NaN</td>\n",
       "      <td>NaN</td>\n",
       "      <td>NaN</td>\n",
       "      <td>NaN</td>\n",
       "      <td>NaN</td>\n",
       "    </tr>\n",
       "    <tr>\n",
       "      <th>amidar</th>\n",
       "      <td>2.2</td>\n",
       "      <td>NaN</td>\n",
       "      <td>0.001</td>\n",
       "      <td>0.0</td>\n",
       "      <td>0.0</td>\n",
       "      <td>NaN</td>\n",
       "      <td>NaN</td>\n",
       "      <td>32.0</td>\n",
       "      <td>10.0</td>\n",
       "      <td>0.99</td>\n",
       "      <td>...</td>\n",
       "      <td>NaN</td>\n",
       "      <td>0.0</td>\n",
       "      <td>NaN</td>\n",
       "      <td>0.0</td>\n",
       "      <td>NaN</td>\n",
       "      <td>NaN</td>\n",
       "      <td>NaN</td>\n",
       "      <td>NaN</td>\n",
       "      <td>NaN</td>\n",
       "      <td>NaN</td>\n",
       "    </tr>\n",
       "    <tr>\n",
       "      <th>asterix</th>\n",
       "      <td>2.2</td>\n",
       "      <td>NaN</td>\n",
       "      <td>0.001</td>\n",
       "      <td>0.0</td>\n",
       "      <td>0.0</td>\n",
       "      <td>NaN</td>\n",
       "      <td>NaN</td>\n",
       "      <td>32.0</td>\n",
       "      <td>10.0</td>\n",
       "      <td>0.99</td>\n",
       "      <td>...</td>\n",
       "      <td>NaN</td>\n",
       "      <td>0.0</td>\n",
       "      <td>NaN</td>\n",
       "      <td>0.0</td>\n",
       "      <td>NaN</td>\n",
       "      <td>NaN</td>\n",
       "      <td>NaN</td>\n",
       "      <td>NaN</td>\n",
       "      <td>NaN</td>\n",
       "      <td>NaN</td>\n",
       "    </tr>\n",
       "    <tr>\n",
       "      <th>freeway</th>\n",
       "      <td>2.4</td>\n",
       "      <td>NaN</td>\n",
       "      <td>0.001</td>\n",
       "      <td>0.0</td>\n",
       "      <td>0.0</td>\n",
       "      <td>NaN</td>\n",
       "      <td>NaN</td>\n",
       "      <td>32.0</td>\n",
       "      <td>10.0</td>\n",
       "      <td>0.99</td>\n",
       "      <td>...</td>\n",
       "      <td>NaN</td>\n",
       "      <td>0.0</td>\n",
       "      <td>NaN</td>\n",
       "      <td>0.0</td>\n",
       "      <td>NaN</td>\n",
       "      <td>NaN</td>\n",
       "      <td>NaN</td>\n",
       "      <td>NaN</td>\n",
       "      <td>NaN</td>\n",
       "      <td>NaN</td>\n",
       "    </tr>\n",
       "    <tr>\n",
       "      <th>frostbite</th>\n",
       "      <td>2.0</td>\n",
       "      <td>NaN</td>\n",
       "      <td>0.001</td>\n",
       "      <td>0.0</td>\n",
       "      <td>0.0</td>\n",
       "      <td>NaN</td>\n",
       "      <td>NaN</td>\n",
       "      <td>32.0</td>\n",
       "      <td>10.0</td>\n",
       "      <td>0.99</td>\n",
       "      <td>...</td>\n",
       "      <td>NaN</td>\n",
       "      <td>0.0</td>\n",
       "      <td>NaN</td>\n",
       "      <td>0.0</td>\n",
       "      <td>NaN</td>\n",
       "      <td>NaN</td>\n",
       "      <td>NaN</td>\n",
       "      <td>NaN</td>\n",
       "      <td>NaN</td>\n",
       "      <td>NaN</td>\n",
       "    </tr>\n",
       "    <tr>\n",
       "      <th>krull</th>\n",
       "      <td>2.0</td>\n",
       "      <td>NaN</td>\n",
       "      <td>0.001</td>\n",
       "      <td>0.0</td>\n",
       "      <td>0.0</td>\n",
       "      <td>NaN</td>\n",
       "      <td>NaN</td>\n",
       "      <td>32.0</td>\n",
       "      <td>10.0</td>\n",
       "      <td>0.99</td>\n",
       "      <td>...</td>\n",
       "      <td>NaN</td>\n",
       "      <td>0.0</td>\n",
       "      <td>NaN</td>\n",
       "      <td>0.0</td>\n",
       "      <td>NaN</td>\n",
       "      <td>NaN</td>\n",
       "      <td>NaN</td>\n",
       "      <td>NaN</td>\n",
       "      <td>NaN</td>\n",
       "      <td>NaN</td>\n",
       "    </tr>\n",
       "    <tr>\n",
       "      <th>ms_pacman</th>\n",
       "      <td>2.2</td>\n",
       "      <td>NaN</td>\n",
       "      <td>0.001</td>\n",
       "      <td>0.0</td>\n",
       "      <td>0.0</td>\n",
       "      <td>NaN</td>\n",
       "      <td>NaN</td>\n",
       "      <td>32.0</td>\n",
       "      <td>10.0</td>\n",
       "      <td>0.99</td>\n",
       "      <td>...</td>\n",
       "      <td>NaN</td>\n",
       "      <td>0.0</td>\n",
       "      <td>NaN</td>\n",
       "      <td>0.0</td>\n",
       "      <td>NaN</td>\n",
       "      <td>NaN</td>\n",
       "      <td>NaN</td>\n",
       "      <td>NaN</td>\n",
       "      <td>NaN</td>\n",
       "      <td>NaN</td>\n",
       "    </tr>\n",
       "    <tr>\n",
       "      <th>pong</th>\n",
       "      <td>2.0</td>\n",
       "      <td>NaN</td>\n",
       "      <td>0.001</td>\n",
       "      <td>0.0</td>\n",
       "      <td>0.0</td>\n",
       "      <td>NaN</td>\n",
       "      <td>NaN</td>\n",
       "      <td>32.0</td>\n",
       "      <td>10.0</td>\n",
       "      <td>0.99</td>\n",
       "      <td>...</td>\n",
       "      <td>NaN</td>\n",
       "      <td>0.0</td>\n",
       "      <td>NaN</td>\n",
       "      <td>0.0</td>\n",
       "      <td>NaN</td>\n",
       "      <td>NaN</td>\n",
       "      <td>NaN</td>\n",
       "      <td>NaN</td>\n",
       "      <td>NaN</td>\n",
       "      <td>NaN</td>\n",
       "    </tr>\n",
       "    <tr>\n",
       "      <th>seaquest</th>\n",
       "      <td>2.2</td>\n",
       "      <td>NaN</td>\n",
       "      <td>0.001</td>\n",
       "      <td>0.0</td>\n",
       "      <td>0.0</td>\n",
       "      <td>NaN</td>\n",
       "      <td>NaN</td>\n",
       "      <td>32.0</td>\n",
       "      <td>10.0</td>\n",
       "      <td>0.99</td>\n",
       "      <td>...</td>\n",
       "      <td>NaN</td>\n",
       "      <td>0.0</td>\n",
       "      <td>NaN</td>\n",
       "      <td>0.0</td>\n",
       "      <td>NaN</td>\n",
       "      <td>NaN</td>\n",
       "      <td>NaN</td>\n",
       "      <td>NaN</td>\n",
       "      <td>NaN</td>\n",
       "      <td>NaN</td>\n",
       "    </tr>\n",
       "  </tbody>\n",
       "</table>\n",
       "<p>9 rows × 192 columns</p>\n",
       "</div>"
      ],
      "text/plain": [
       "           Runtime  Sweep  agent.eps_eval  agent.eps_final  agent.eps_init  \\\n",
       "game                                                                         \n",
       "alien          2.2    NaN           0.001              0.0             0.0   \n",
       "amidar         2.2    NaN           0.001              0.0             0.0   \n",
       "asterix        2.2    NaN           0.001              0.0             0.0   \n",
       "freeway        2.4    NaN           0.001              0.0             0.0   \n",
       "frostbite      2.0    NaN           0.001              0.0             0.0   \n",
       "krull          2.0    NaN           0.001              0.0             0.0   \n",
       "ms_pacman      2.2    NaN           0.001              0.0             0.0   \n",
       "pong           2.0    NaN           0.001              0.0             0.0   \n",
       "seaquest       2.2    NaN           0.001              0.0             0.0   \n",
       "\n",
       "           algo.amortization_decay_constant  algo.amortization_loss_weight  \\\n",
       "game                                                                         \n",
       "alien                                   NaN                            NaN   \n",
       "amidar                                  NaN                            NaN   \n",
       "asterix                                 NaN                            NaN   \n",
       "freeway                                 NaN                            NaN   \n",
       "frostbite                               NaN                            NaN   \n",
       "krull                                   NaN                            NaN   \n",
       "ms_pacman                               NaN                            NaN   \n",
       "pong                                    NaN                            NaN   \n",
       "seaquest                                NaN                            NaN   \n",
       "\n",
       "           algo.batch_size  algo.clip_grad_norm  algo.discount     ...       \\\n",
       "game                                                               ...        \n",
       "alien                 32.0                 10.0           0.99     ...        \n",
       "amidar                32.0                 10.0           0.99     ...        \n",
       "asterix               32.0                 10.0           0.99     ...        \n",
       "freeway               32.0                 10.0           0.99     ...        \n",
       "frostbite             32.0                 10.0           0.99     ...        \n",
       "krull                 32.0                 10.0           0.99     ...        \n",
       "ms_pacman             32.0                 10.0           0.99     ...        \n",
       "pong                  32.0                 10.0           0.99     ...        \n",
       "seaquest              32.0                 10.0           0.99     ...        \n",
       "\n",
       "           lossStd  modelGradNorm  modelLoss  modelRLLoss  tdAbsErr  \\\n",
       "game                                                                  \n",
       "alien          NaN            0.0        NaN          0.0       NaN   \n",
       "amidar         NaN            0.0        NaN          0.0       NaN   \n",
       "asterix        NaN            0.0        NaN          0.0       NaN   \n",
       "freeway        NaN            0.0        NaN          0.0       NaN   \n",
       "frostbite      NaN            0.0        NaN          0.0       NaN   \n",
       "krull          NaN            0.0        NaN          0.0       NaN   \n",
       "ms_pacman      NaN            0.0        NaN          0.0       NaN   \n",
       "pong           NaN            0.0        NaN          0.0       NaN   \n",
       "seaquest       NaN            0.0        NaN          0.0       NaN   \n",
       "\n",
       "           tdAbsErrAverage  tdAbsErrMax  tdAbsErrMedian  tdAbsErrMin  \\\n",
       "game                                                                   \n",
       "alien                  NaN          NaN             NaN          NaN   \n",
       "amidar                 NaN          NaN             NaN          NaN   \n",
       "asterix                NaN          NaN             NaN          NaN   \n",
       "freeway                NaN          NaN             NaN          NaN   \n",
       "frostbite              NaN          NaN             NaN          NaN   \n",
       "krull                  NaN          NaN             NaN          NaN   \n",
       "ms_pacman              NaN          NaN             NaN          NaN   \n",
       "pong                   NaN          NaN             NaN          NaN   \n",
       "seaquest               NaN          NaN             NaN          NaN   \n",
       "\n",
       "           tdAbsErrStd  \n",
       "game                    \n",
       "alien              NaN  \n",
       "amidar             NaN  \n",
       "asterix            NaN  \n",
       "freeway            NaN  \n",
       "frostbite          NaN  \n",
       "krull              NaN  \n",
       "ms_pacman          NaN  \n",
       "pong               NaN  \n",
       "seaquest           NaN  \n",
       "\n",
       "[9 rows x 192 columns]"
      ]
     },
     "execution_count": 377,
     "metadata": {},
     "output_type": "execute_result"
    }
   ],
   "source": [
    "q_l1_games"
   ]
  },
  {
   "cell_type": "code",
   "execution_count": 378,
   "metadata": {},
   "outputs": [
    {
     "name": "stdout",
     "output_type": "stream",
     "text": [
      "5\n",
      "3\n",
      "5\n"
     ]
    }
   ],
   "source": [
    "print(np.sum((rr_128_games[\"GameScoreAverage\"] > q_l1_games[\"GameScoreAverage\"])))\n",
    "print(np.sum((q_l1_games[\"GameScoreAverage\"] > control_games[\"GameScoreAverage\"])))\n",
    "print(np.sum((rr_128_games[\"GameScoreAverage\"] > control_games[\"GameScoreAverage\"])))"
   ]
  },
  {
   "cell_type": "code",
   "execution_count": 379,
   "metadata": {},
   "outputs": [
    {
     "data": {
      "text/plain": [
       "game\n",
       "alien             NaN\n",
       "amidar       0.155276\n",
       "asterix      0.092554\n",
       "freeway      0.215644\n",
       "frostbite    0.680274\n",
       "krull             NaN\n",
       "ms_pacman         NaN\n",
       "pong         0.463384\n",
       "seaquest     0.051564\n",
       "Name: GameScoreNatureNormalized, dtype: float64"
      ]
     },
     "execution_count": 379,
     "metadata": {},
     "output_type": "execute_result"
    }
   ],
   "source": [
    "rr_128_games[\"GameScoreNatureNormalized\"]"
   ]
  }
 ],
 "metadata": {
  "kernelspec": {
   "display_name": "Python 3",
   "language": "python",
   "name": "python3"
  },
  "language_info": {
   "codemirror_mode": {
    "name": "ipython",
    "version": 3
   },
   "file_extension": ".py",
   "mimetype": "text/x-python",
   "name": "python",
   "nbconvert_exporter": "python",
   "pygments_lexer": "ipython3",
   "version": "3.6.6"
  }
 },
 "nbformat": 4,
 "nbformat_minor": 2
}
